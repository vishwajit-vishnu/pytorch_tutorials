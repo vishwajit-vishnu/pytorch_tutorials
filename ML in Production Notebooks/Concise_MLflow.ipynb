{
 "cells": [
  {
   "cell_type": "markdown",
   "metadata": {
    "collapsed": false,
    "jupyter": {
     "outputs_hidden": false
    }
   },
   "source": [
    "To store tracking details at some url\n",
    "You do NOT need to run this if you want to save the tracking information locally\n",
    "So I have commented it.\n",
    "\n",
    "Following is beneficial while working in team environments where you store the\n",
    "information on a remote sercer"
   ]
  },
  {
   "cell_type": "code",
   "execution_count": 5,
   "metadata": {
    "collapsed": true,
    "jupyter": {
     "outputs_hidden": true
    },
    "ExecuteTime": {
     "end_time": "2025-01-14T17:18:13.568615300Z",
     "start_time": "2025-01-14T17:18:13.568108100Z"
    }
   },
   "outputs": [],
   "source": [
    "# import mlflow\n",
    "# mlflow.set_tracking_uri(uri=\"http://<host>:<port>\")"
   ]
  },
  {
   "cell_type": "code",
   "execution_count": 6,
   "metadata": {
    "collapsed": false,
    "jupyter": {
     "outputs_hidden": false
    },
    "ExecuteTime": {
     "end_time": "2025-01-14T17:18:17.492069600Z",
     "start_time": "2025-01-14T17:18:17.491564600Z"
    }
   },
   "outputs": [],
   "source": [
    "import mlflow"
   ]
  },
  {
   "cell_type": "markdown",
   "source": [
    "Following is a default tracking server. You do not need to run the command.\n",
    "Or you can run following command in the terminal and see it. But it will not affect any of the below steps"
   ],
   "metadata": {
    "collapsed": false
   }
  },
  {
   "cell_type": "code",
   "execution_count": 3,
   "metadata": {
    "ExecuteTime": {
     "end_time": "2025-01-14T17:06:33.474453300Z",
     "start_time": "2025-01-14T17:06:32.156900700Z"
    },
    "collapsed": false,
    "jupyter": {
     "outputs_hidden": false
    }
   },
   "outputs": [],
   "source": [
    "# Run the following command in terminal and do not close that terminal\n",
    "mlflow server --host 127.0.0.1 --port 8000"
   ]
  },
  {
   "cell_type": "markdown",
   "metadata": {
    "collapsed": false,
    "jupyter": {
     "outputs_hidden": false
    }
   },
   "source": [
    "Creating the name of the MLflow experiment name"
   ]
  },
  {
   "cell_type": "code",
   "execution_count": 8,
   "metadata": {
    "collapsed": false,
    "jupyter": {
     "outputs_hidden": false
    },
    "ExecuteTime": {
     "end_time": "2025-01-14T17:22:21.090675800Z",
     "start_time": "2025-01-14T17:21:14.463696400Z"
    }
   },
   "outputs": [
    {
     "name": "stderr",
     "output_type": "stream",
     "text": [
      "2025/01/14 22:52:21 INFO mlflow.tracking.fluent: Experiment with name 'iris-classification' does not exist. Creating a new experiment.\n"
     ]
    },
    {
     "data": {
      "text/plain": "<Experiment: artifact_location='mlflow-artifacts:/364556975718474336', creation_time=1736875341061, experiment_id='364556975718474336', last_update_time=1736875341061, lifecycle_stage='active', name='iris-classification', tags={}>"
     },
     "execution_count": 8,
     "metadata": {},
     "output_type": "execute_result"
    }
   ],
   "source": [
    "mlflow.set_experiment(\"iris-classification\")"
   ]
  },
  {
   "cell_type": "markdown",
   "metadata": {
    "collapsed": false,
    "jupyter": {
     "outputs_hidden": false
    }
   },
   "source": [
    "# 0. Setting autologging of to showcase how to use mlflow for unsupported libraries"
   ]
  },
  {
   "cell_type": "markdown",
   "metadata": {
    "collapsed": false,
    "jupyter": {
     "outputs_hidden": false
    }
   },
   "source": [
    "Note: In sklearn experiments you can autolog the parameters.\n",
    "However, for a mix of multiple parameters or for neural networks you will have to log it\n",
    "manually. So, I am setting autologging  of sklearn to False."
   ]
  },
  {
   "cell_type": "code",
   "execution_count": null,
   "metadata": {
    "collapsed": false,
    "jupyter": {
     "outputs_hidden": false
    }
   },
   "outputs": [],
   "source": [
    "mlflow.sklearn.autolog(disable=True)"
   ]
  },
  {
   "cell_type": "markdown",
   "metadata": {
    "collapsed": false,
    "jupyter": {
     "outputs_hidden": false
    }
   },
   "source": [
    "# 1. Start MLflow run and create you model\n",
    "Each MLflow run contains the details of one of the runs"
   ]
  },
  {
   "cell_type": "code",
   "execution_count": null,
   "metadata": {
    "collapsed": false,
    "jupyter": {
     "outputs_hidden": false
    }
   },
   "outputs": [],
   "source": [
    "mlflow.start_run()"
   ]
  },
  {
   "cell_type": "code",
   "execution_count": 10,
   "metadata": {
    "collapsed": false,
    "jupyter": {
     "outputs_hidden": false
    },
    "ExecuteTime": {
     "end_time": "2025-01-14T17:25:27.039867300Z",
     "start_time": "2025-01-14T17:25:27.027577200Z"
    }
   },
   "outputs": [],
   "source": [
    "from sklearn.datasets import load_iris\n",
    "from sklearn.model_selection import train_test_split\n",
    "\n",
    "X, Y = load_iris(return_X_y=True)\n",
    "\n",
    "# Split data into train and test\n",
    "# Using 30% of data as test data\n",
    "X_train, X_test, Y_train, Y_test = train_test_split(\n",
    "    X, Y, test_size=0.3, random_state=43\n",
    ")"
   ]
  },
  {
   "cell_type": "code",
   "execution_count": 14,
   "metadata": {
    "collapsed": false,
    "jupyter": {
     "outputs_hidden": false
    },
    "ExecuteTime": {
     "end_time": "2025-01-14T17:31:46.333862900Z",
     "start_time": "2025-01-14T17:31:46.317841900Z"
    }
   },
   "outputs": [
    {
     "name": "stdout",
     "output_type": "stream",
     "text": [
      "105 45\n",
      "(105, 4)\n"
     ]
    }
   ],
   "source": [
    "# View data\n",
    "print(len(X_train), len(X_test))\n",
    "print(X_train.shape)"
   ]
  },
  {
   "cell_type": "markdown",
   "source": [
    "# 2. Preprocessing for the dataset"
   ],
   "metadata": {
    "collapsed": false
   }
  },
  {
   "cell_type": "code",
   "execution_count": 13,
   "outputs": [
    {
     "name": "stdout",
     "output_type": "stream",
     "text": [
      "[[5.7 2.8 4.5 1.3]\n",
      " [5.5 2.6 4.4 1.2]]\n"
     ]
    }
   ],
   "source": [
    "# First two data points before Normalization\n",
    "print(X_train[:2])"
   ],
   "metadata": {
    "collapsed": false,
    "ExecuteTime": {
     "end_time": "2025-01-14T17:30:26.422103400Z",
     "start_time": "2025-01-14T17:30:26.419784300Z"
    }
   }
  },
  {
   "cell_type": "code",
   "execution_count": null,
   "outputs": [],
   "source": [
    "from sklearn.preprocessing import StandardScaler\n",
    "\n",
    "# Normalize the data\n",
    "scaler = StandardScaler()\n",
    "\n",
    "X_train = scaler.fit_transform(X_train)\n",
    "X_test = scaler.transform(X_test)"
   ],
   "metadata": {
    "collapsed": false
   }
  },
  {
   "cell_type": "code",
   "execution_count": 16,
   "outputs": [
    {
     "name": "stdout",
     "output_type": "stream",
     "text": [
      "[[5.7 2.8 4.5 1.3]\n",
      " [5.5 2.6 4.4 1.2]]\n"
     ]
    }
   ],
   "source": [
    "# First two data points after normalizaiotn\n",
    "print(X_train[:2]) # Notice first feature of second data point"
   ],
   "metadata": {
    "collapsed": false,
    "ExecuteTime": {
     "end_time": "2025-01-14T17:32:30.109029500Z",
     "start_time": "2025-01-14T17:32:30.062257200Z"
    }
   }
  },
  {
   "cell_type": "code",
   "execution_count": null,
   "metadata": {
    "collapsed": false,
    "jupyter": {
     "outputs_hidden": false
    }
   },
   "outputs": [],
   "source": [
    "# TO BE CONTINUED FROM HERE"
   ]
  }
 ],
 "metadata": {
  "kernelspec": {
   "display_name": "Python 3 (ipykernel)",
   "language": "python",
   "name": "python3"
  },
  "language_info": {
   "codemirror_mode": {
    "name": "ipython",
    "version": 3
   },
   "file_extension": ".py",
   "mimetype": "text/x-python",
   "name": "python",
   "nbconvert_exporter": "python",
   "pygments_lexer": "ipython3",
   "version": "3.11.1"
  }
 },
 "nbformat": 4,
 "nbformat_minor": 4
}
