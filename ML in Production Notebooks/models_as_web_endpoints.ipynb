{
 "cells": [
  {
   "cell_type": "markdown",
   "source": [
    "Install following libraries in the virtual environment"
   ],
   "metadata": {
    "collapsed": false
   }
  },
  {
   "cell_type": "code",
   "execution_count": null,
   "metadata": {
    "collapsed": true,
    "is_executing": true
   },
   "outputs": [],
   "source": [
    "!pip3 install requests # Installs functions for GET and POST\n",
    "!pip3 install Flask # Adds functions to be exposed as HTTP locations\n",
    "!pip3 install gunicorn # a WSGI server to host the Flask app\n",
    "!pip3 install mlflow # Library for model persistence\n",
    "!pip3 install pillow # python library to manipulate images\n",
    "!pip3 install dash # To write interactive web apps in python"
   ]
  },
  {
   "cell_type": "code",
   "execution_count": null,
   "outputs": [],
   "source": [
    "import requests\n",
    "\n",
    "result = requests.get(\"http://cat-fact.herokuapp.com/facts/random\")\n",
    "print(result)\n",
    "print(result.json())\n",
    "print(result.json()['text'])"
   ],
   "metadata": {
    "collapsed": false
   }
  },
  {
   "cell_type": "code",
   "execution_count": null,
   "outputs": [],
   "source": [],
   "metadata": {
    "collapsed": false
   }
  }
 ],
 "metadata": {
  "kernelspec": {
   "display_name": "Python 3",
   "language": "python",
   "name": "python3"
  },
  "language_info": {
   "codemirror_mode": {
    "name": "ipython",
    "version": 2
   },
   "file_extension": ".py",
   "mimetype": "text/x-python",
   "name": "python",
   "nbconvert_exporter": "python",
   "pygments_lexer": "ipython2",
   "version": "2.7.6"
  }
 },
 "nbformat": 4,
 "nbformat_minor": 0
}
